{
 "cells": [
  {
   "cell_type": "code",
   "execution_count": 67,
   "id": "5310d763",
   "metadata": {},
   "outputs": [
    {
     "name": "stdout",
     "output_type": "stream",
     "text": [
      "Fitting 5 folds for each of 20 candidates, totalling 100 fits\n",
      "Best parameters: {'learning_rate': 0.05, 'n_estimators': 100, 'n_lags': 12}\n",
      "Best RMSE: 3.8109394750117485\n"
     ]
    }
   ],
   "source": [
    "import pandas as pd\n",
    "import numpy as np\n",
    "from sklearn.model_selection import TimeSeriesSplit, GridSearchCV\n",
    "from sklearn.base import BaseEstimator, RegressorMixin\n",
    "from xgboost import XGBRegressor\n",
    "import json\n",
    "\n",
    "df = pd.read_csv(\"../public/harga-properti.csv\")[['Quarter', 'Value']].dropna()\n",
    "\n",
    "class LaggedXGBRegressor(BaseEstimator, RegressorMixin):\n",
    "    def __init__(self, n_lags=4, n_estimators=100, learning_rate=0.1):\n",
    "        self.n_lags = n_lags\n",
    "        self.n_estimators = n_estimators\n",
    "        self.learning_rate = learning_rate\n",
    "        self.model = None\n",
    "\n",
    "    def create_lag_features(self, y):\n",
    "        df_lag = pd.DataFrame()\n",
    "        for i in range(self.n_lags):\n",
    "            df_lag[f'lag_{i+1}'] = y.shift(i+1)\n",
    "        df_lag['target'] = y\n",
    "        df_lag.dropna(inplace=True)\n",
    "        return df_lag\n",
    "\n",
    "    def fit(self, X, y):\n",
    "        data = self.create_lag_features(y)\n",
    "        X_lag = data.drop(columns='target').values\n",
    "        y_lag = data['target'].values\n",
    "        self.model = XGBRegressor(n_estimators=self.n_estimators, learning_rate=self.learning_rate)\n",
    "        self.model.fit(X_lag, y_lag)\n",
    "        self.history = y.values\n",
    "        return self\n",
    "\n",
    "    def predict(self, X):\n",
    "        last_known = self.history[-self.n_lags:].tolist()\n",
    "        preds = []\n",
    "        for _ in range(len(X)):\n",
    "            input_features = np.array(last_known[-self.n_lags:]).reshape(1, -1)\n",
    "            pred = self.model.predict(input_features)[0]\n",
    "            preds.append(pred)\n",
    "            last_known.append(pred)\n",
    "        return np.array(preds)\n",
    "\n",
    "tscv = TimeSeriesSplit(n_splits=5)\n",
    "\n",
    "param_grid = {\n",
    "    'n_lags': [4, 8, 12, 16, 20],\n",
    "    'n_estimators': [100, 200],\n",
    "    'learning_rate': [0.05, 0.1]\n",
    "}\n",
    "\n",
    "y_series = df['Value']\n",
    "\n",
    "grid_search = GridSearchCV(LaggedXGBRegressor(), param_grid, cv=tscv,\n",
    "                           scoring='neg_mean_squared_error', verbose=1)\n",
    "X_dummy = np.zeros((len(y_series), 1))\n",
    "grid_search.fit(X_dummy, y_series)\n",
    "\n",
    "best_model = grid_search.best_estimator_\n",
    "print(\"Best parameters:\", grid_search.best_params_)\n",
    "print(\"Best RMSE:\", np.sqrt(-grid_search.best_score_))\n",
    "\n",
    "future_X = np.zeros((88, 1))\n",
    "forecast = best_model.predict(future_X)\n",
    "\n",
    "future_quarters = np.arange(df['Quarter'].max() + 1, df['Quarter'].max() + 89)\n",
    "\n",
    "all_quarters = df['Quarter'].tolist() + future_quarters.tolist()\n",
    "all_values = df['Value'].tolist() + forecast.tolist()\n",
    "\n",
    "combined_data = [{\"Quarter\": q, \"Value\": float(f\"{v:.2f}\")} for q, v in zip(all_quarters, all_values)]\n",
    "\n",
    "with open(\"../backend/model/combined_forecast.json\", \"w\") as f:\n",
    "    json.dump(combined_data, f, indent=4)"
   ]
  }
 ],
 "metadata": {
  "kernelspec": {
   "display_name": "venv",
   "language": "python",
   "name": "python3"
  },
  "language_info": {
   "codemirror_mode": {
    "name": "ipython",
    "version": 3
   },
   "file_extension": ".py",
   "mimetype": "text/x-python",
   "name": "python",
   "nbconvert_exporter": "python",
   "pygments_lexer": "ipython3",
   "version": "3.11.9"
  }
 },
 "nbformat": 4,
 "nbformat_minor": 5
}
